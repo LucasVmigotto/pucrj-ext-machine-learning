{
 "cells": [
  {
   "cell_type": "markdown",
   "metadata": {},
   "source": [
    "# Problemas de Classificação"
   ]
  },
  {
   "cell_type": "markdown",
   "metadata": {},
   "source": [
    "> As anotações necessitam de revisão"
   ]
  },
  {
   "cell_type": "markdown",
   "metadata": {},
   "source": [
    "## Etapas de um projeto de ciência de dados\n",
    "\n",
    "1. Definição do problema\n",
    "2. Coleta e análise dos dados\n",
    "3. Pré processamento\n",
    "4. Modelagem e inferência\n",
    "5. Pós processamento\n",
    "6. Apresentação dos resultados\n",
    "7. Implantação do modelo e geração de valor"
   ]
  },
  {
   "cell_type": "markdown",
   "metadata": {},
   "source": [
    "## Tipos de aprendizado\n",
    "\n",
    "### Supervisionado\n",
    "  * Modelo é construído a partir de dados apresentados de maneira clara - dados rotulados com entrada e saída definidas;\n",
    "\n",
    "### Não supervisionado\n",
    "  * Não existe, nesse caso, uma entrada e saída prédefinidos. A ideia é que, a partir do modelo, sejam identificadas regularidades entre os dados\n",
    "\n",
    "### Semissupervisionado\n",
    "  * Uma combinação do dois últimos tipos\n",
    "\n",
    "### Por reforço\n",
    "  * A máquina passa a receber \"recompensas\" dado a sua percepção do ambiente e, não obstante, suas ações realizadas de acordo com o esperado quando adequado"
   ]
  },
  {
   "cell_type": "markdown",
   "metadata": {},
   "source": [
    "## Regressão x Classificação\n",
    "\n",
    "### **Classificação**\n",
    "  * \"Busca por uma função matemática que permita associar corretamente cada exemplo de Xi de um conjunto de dados a um único rótulo categórico Yi\"\n",
    "  * Ação que permite dizer, para uma variável de tipo categórica, a qual classe pertence\n",
    "    * A saída é **sempre** categórica\n",
    "  * Exemplo: A decisão se um determinado cliente deve ter ou não o seu limite de crédito aumentado\n",
    "\n",
    "### **Regressão** \n",
    "  * Forma como se consegue obter uma predição sobre um valor numérico - seja este contínuo ou discreto\n",
    "    * A saída é **sempre** numérica (discreta ou contínua)\n",
    "  * Exemplo: O quanto deve ser dado de limite de crédito para um determinado cliente com determindas características"
   ]
  },
  {
   "cell_type": "markdown",
   "metadata": {},
   "source": [
    "## Tipos de dados para o modelo\n",
    "\n",
    "### Treino\n",
    "  * Usados durante a construção do modelo para o seu treinamento;\n",
    "\n",
    "### Teste\n",
    "  * Usados durante a validação do modelo para aferir métricas valorativas das predições\n",
    "\n",
    "### Técnica de _Holdout_\n",
    "  * Separação da base de dados em treino e teste\n",
    "    * Na construção do modelo, é utilizada o conjunto de treino, e seu erro de generalização é avaliado com o conjunto de teste\n",
    "    * Identificada uma hipótese, esta pode ser muito específica para o conjunto de dados utilizado. Isso, claro, se a amostra de dados não for suficientemente representativa da realidade\n",
    "      * O modelo pode ter um bom desempenho no treino, mas não em teste"
   ]
  },
  {
   "cell_type": "markdown",
   "metadata": {},
   "source": [
    "## Undwefitting x Overfitting\n",
    "\n",
    "### Underfitting\n",
    "  * O modelo se ajustou pouco aos dados de treino, não sendo adequado para predições com os daos de teste\n",
    "    * Diz-se que o modelo tornou-se generalista\n",
    "\n",
    "### Overfitting\n",
    "  * O modelo se ajustou demais aos dados de treino, não sendo possível descobrir generalizações com os dados de teste\n",
    "    * Diz-se que o modelo tornou-se complexo\n",
    "  * Modelo memoriza os dados de treino e apresenta um grande erro quando prediz com os dados de teste\n",
    "\n",
    "### Dilema _bias_ x _variânca_\n",
    "  * Importância do equilíbrio entre _Underfitting_ e _Overfitting_\n",
    "    * **Overfitting**: Adequação do modelo aos dados de treino para não perder recursos relevantes e tendências interessantes\n",
    "    * **Underfitting**: Não se adequar perfeitamente aos dados de teste para não aprender erros e irregularidades"
   ]
  },
  {
   "cell_type": "markdown",
   "metadata": {},
   "source": [
    "## Validação cruzada\n",
    "  * Aplicação múltipla da técnina de _Holdout_ para os dados de treino\n",
    "    * Criação de K subconjuntos para delimitar uma sequência de treino e teste dentro dos dados de treino\n",
    "    * Valores comuns de uso para K são 3, 5 e 10"
   ]
  },
  {
   "cell_type": "markdown",
   "metadata": {},
   "source": [
    "## Métricas de avaliação\n",
    "\n",
    "### Matriz de confusão\n",
    "  * Mostra, para cada classe, o número de classificações corretas em relação ao número de classificações dadas pelo modelo\n",
    "\n",
    "  |Classes      |Predita C1              |Predita C2|\n",
    "  |-------------|------------------------|------------------------|\n",
    "  |Verdadeira C1|Verdadeiro positivo (VN)|Falso negativo (FN)     |\n",
    "  |Verdadeira C2|Falso positivo (FP)     |Verdadeiro Negativo (VP)|\n",
    "\n",
    "### Acurácia\n",
    "  * Razão entre o total de predições corretas e o número total de exemplos \n",
    "  * (VP + VN) / (VP + VN + FP + FN)\n",
    "\n",
    "### Precisão\n",
    "  * Razão entre o número de predições Verdadeiro Positivo e a quantidade total de predições positivas\n",
    "  * VP / (VP + FP)\n",
    "\n",
    "### Recall\n",
    "  * Razão entre o número de predições Verdadeiro Positivo e a quantidade total de exemplos positivos\n",
    "  * VP / (VP + FN)\n",
    "\n",
    "### Curva ROC (Receiver Operating Characteristic)\n",
    "  * Contrasta os benefícios de uma classificação correta (TVP, Sensibilidade ou Recall) e o custo de uma classificação incorreta (TFP ou 1 - Especificidade)\n",
    "  * Utilizada para calcular a métrica AUC (Area Under Curve)\n",
    "    * Esta varia de 0 (todas as predições são incorretas) até 1 (todas as predições são corretas)\n",
    "\n",
    "### Sensibilidade\n",
    "  * Capacidade de identificar corretamente os indivíduos que apresentam a característica de interesse\n",
    "  * Também chamada de TVP\n",
    "  * VP / (VP + FN)\n",
    "\n",
    "### Especificidade\n",
    "  * Razão de predições Verdadeiro Positivas e a quantidade total de exemplos positivos\n",
    "  * VN / (FP + VN)\n",
    "  * Pode ser vista, também, na forma de TFP\n",
    "    * FP / (FP + VN)\n",
    "\n",
    "> Tipicamente é necessário escolher entre uma alta precisão, ou um alto recall. Não é possível obter ambos ao mesmo tempo"
   ]
  },
  {
   "cell_type": "markdown",
   "metadata": {},
   "source": [
    "## Algoritmos de classificação\n",
    "\n",
    "### KNN (k-Nearst Neighbours)\n",
    "  * Não paramétrico\n",
    "  * Não assume premissas sobre a distribuição dos dados\n",
    "  * Considera que os exemplos vizinhos são similares ao exemplo que deseja inferir\n",
    "  * Utiliza uma métrica de distância para encontrar as K instâncias mais próximas\n",
    "    * Euclidean, Manhattan, Minkowski, Hamming \n",
    "  * Incialmente é treinado e armazena estes dados. Com uma nova entrada, compara-se esta com os demais registros para encontrar os K vizinhos mais próximos baseando-se na métrica de distância\n",
    "  * Em geral, os atributos são normalizados para que se tenha uma mesma contribuição na predição da classe\n",
    "  * Algumas limitações:\n",
    "    * Performace lenta em grandes datasets\n",
    "    * Sensível a características irrelevantes\n",
    "    * Necessário testar diferentes valores de K com outras métricas de distância\n",
    "      * Maiores valores de K, menor efeito de ruído nos conjuntos de referência\n",
    "        * Valores muito altos tornam mais difusas as fronteiras entre as classes existentes\n",
    "      * Geralmente são usados valores ímpares para evitar empates no momento de determinação da classe\n",
    "      \n",
    "### Árvores de decisão\n",
    "  * Simples de ser interpretado\n",
    "  * Usadas tanto para Classficação quanto para Regressão\n",
    "  * Usa uma amostra das características dos dados para criar regras de decisão\n",
    "  * Formada pelos nodes e leafs\n",
    "  * Estratégia de separar e conquistar na criação da estrutura da árvore\n",
    "    * Busca o resultado mais homogêneo após a separação\n",
    "    * Métricas como a Entropia para a medição da pureza do node\n",
    "  * Alguns algoritmos de criação de árvores\n",
    "    * ID3\n",
    "    * CTree\n",
    "    * C4.5\n",
    "      * Calcula a entropia do conjunto T completo\n",
    "      * Para cada atributo:\n",
    "        * Calcula o ganho de informação\n",
    "        * Seleciona o atributo com maior ganho para ser o root node\n",
    "        * Subdivide o conjunto T\n",
    "        * Repete o procedimento para cada node gerado\n",
    "    * C5.0\n",
    "    * CART\n",
    "  * Em geral, a construção da árvore é realizada de acordo com alguma abordagem recursiva de particionamento do conjunto de dados\n",
    "    * Principal distinção dos algoritmos:\n",
    "      * Sleção de variáveis\n",
    "      * Critério de posicionamento\n",
    "      * Critério de parada\n",
    "      * Crescimento da árvore\n",
    "  * Tendência ao _Overfitting_\n",
    "    * Utilização de algoritmos de pruning\n",
    "\n",
    "## Naïve Bayes\n",
    "  * Classificador genérico e de aprendizado dinâmico\n",
    "  * Precisa de um pequeno conjunto de dados de treino\n",
    "  * Utilizado especialmente em _text mining_\n",
    "  * Desconsidera, completamente, qualquer correlação entre os atributos\n",
    "    * Trata cada um de forma independente\n",
    "  * Baseado no teorema de Bayes, que determina a probabilidade de um evento com base em um conhecimento prévio (a priori) que pode estar relacionado a ele.\n",
    "  * Dar maior peso para as classes mais frequentes\n",
    "\n",
    "## SVM - Suport Vector Machines\n",
    "  * Um dos algoritmos mais efetivos para classificação\n",
    "  * Aplicabilidade em dados lineares ou não lineares\n",
    "  * Prós\n",
    "    * Menos propensos ao overfitting\n",
    "    * Apresentam boa acurácia\n",
    "    * MOdelam fronteiras de decisão complexas e não lineares\n",
    "    * Poucos ajustes\n",
    "  * Contras\n",
    "    * Mais lento\n",
    "      * A solução do problema de otimização pode ser alcançada por meio de técnicas de programação quadrática - mais conhecidas na áre a de pesquisa operacional. Estas buscam otimizar uma função quadrática sujeita a restrições lineares\n",
    "    * Pode ocorrer overfitting se o número de dimensões for grande\n",
    "  * Funcionamento\n",
    "    * Realiza um mapeamento não linear para transformar os dados de treino em uma dimensão maior\n",
    "    * O algoritmo busca, nesta dimensão, o hiperplaneo que separa os dados de forma ótima\n",
    "      * Considere o hiperplano a generalização do conceito de plano para dimensões maiores que três\n",
    "      * Com um mapeamento dos dados em uma dimensao suficientemente alta, dados de duas classes sempre podem ser separadas por um hiperplano\n",
    "      * Em um espaço p-dimensional, o hiperplano é um subespaço achatado de dimensão p-1 que não precisa passar pela origem\n",
    "    * Atravez de vetores de suporte e as margens definidas por eles, o algoritmo encontra esse hiperplano\n",
    "    * O propósito do SVM é determinar os parâmetros da reta que permitam separar os conjuntos dos dados de treinamento em duas classes possíveis\n",
    "  * O classificador associado ao valor máximo de margem é denominado **classificador linear de margem máxima**\n",
    "  * Os pontos do conjunto de dados de treina,ento interceptados pelas linhas da margem são denominados **vetores de suporte**\n",
    "    * Estes são os mais difíceis de classificar\n",
    "    * Todos os vetores de suporte tem a mesma distância em relação à reta do classificador linear - metade do comprimento da margem\n",
    "  * Quanto maior a distância de X para o hiperplano, maior a confiança sobre a classe a que X pertence\n",
    "  * Com o objetivo de aumentar a robustez nas obersavações individuais e melhorar a classificação das observações de treino, um classificador com um hiperplano que não separe perfeitamente as classes pode ser uma saída\n",
    "    *  Pode valer a pena errar a classificação de algumas observações de treino com a finalidade de melhorar a classificação nas demais observações\n",
    "    * Uso, neste caso, do classificador **soft-margin**. Este permite que obervações violem a linha de separação\n",
    "    * O parâmetro de Custo define a rigidez da margem e controla o trade-off tamanho da magem/erro do classificador\n",
    "      * Quanto maior o valor deste parâmetro, mais valores podem ficar de dentro da margem e maior será o erro de classificação. Contudo, menor será a chance de overfitting\n",
    "\n"
   ]
  },
  {
   "cell_type": "markdown",
   "metadata": {},
   "source": [
    "## Prática de Machine Learning em Python (Classificação)"
   ]
  },
  {
   "cell_type": "markdown",
   "metadata": {},
   "source": [
    "Para ilustrar os algoritmos de machine learning de classificação na prática, vamos examinar o popular dataset [Wine](https://archive.ics.uci.edu/ml/datasets/Wine), extraído de uma análise química de vinhos cultivados em uma mesma região da Itália, mas derivados de três produtores diferentes.\n",
    "O objetivo desse dataset é identificar o produtor com base em 13 características químicas do vinho, ou seja, é um problema de classificação. O dataset contém 178 instâncias (linhas), sendo 59 do produtor 1, 71 do produtor 2 e 48 do produtor 3."
   ]
  },
  {
   "cell_type": "markdown",
   "metadata": {},
   "source": [
    "### Importar dataset"
   ]
  },
  {
   "cell_type": "code",
   "execution_count": 1,
   "metadata": {},
   "outputs": [],
   "source": [
    "DATASET_URL = 'https://archive.ics.uci.edu/static/public/109/wine.zip'"
   ]
  },
  {
   "cell_type": "code",
   "execution_count": 2,
   "metadata": {},
   "outputs": [],
   "source": [
    "import requests\n",
    "\n",
    "with open('./data/raw/wine.zip', 'wb') as file:\n",
    "    file.write(requests.get(DATASET_URL).content)\n",
    "    file.close()"
   ]
  },
  {
   "cell_type": "code",
   "execution_count": 3,
   "metadata": {},
   "outputs": [],
   "source": [
    "from zipfile import ZipFile\n",
    "\n",
    "with ZipFile('./data/raw/wine.zip') as zip_ref:\n",
    "    zip_ref.extractall('./data/interim')"
   ]
  },
  {
   "cell_type": "code",
   "execution_count": 4,
   "metadata": {},
   "outputs": [
    {
     "data": {
      "text/html": [
       "<div>\n",
       "<style scoped>\n",
       "    .dataframe tbody tr th:only-of-type {\n",
       "        vertical-align: middle;\n",
       "    }\n",
       "\n",
       "    .dataframe tbody tr th {\n",
       "        vertical-align: top;\n",
       "    }\n",
       "\n",
       "    .dataframe thead th {\n",
       "        text-align: right;\n",
       "    }\n",
       "</style>\n",
       "<table border=\"1\" class=\"dataframe\">\n",
       "  <thead>\n",
       "    <tr style=\"text-align: right;\">\n",
       "      <th></th>\n",
       "      <th>target</th>\n",
       "      <th>Alcohol</th>\n",
       "      <th>Malic acid</th>\n",
       "      <th>Ash</th>\n",
       "      <th>Alcalinity of ash</th>\n",
       "      <th>Magnesium</th>\n",
       "      <th>Total phenols</th>\n",
       "      <th>Flavanoids</th>\n",
       "      <th>Nonflavanoid phenols</th>\n",
       "      <th>Proanthocyanins</th>\n",
       "      <th>Color intensity</th>\n",
       "      <th>Hue</th>\n",
       "      <th>OD280/OD315 of diluted wines</th>\n",
       "      <th>Proline</th>\n",
       "    </tr>\n",
       "  </thead>\n",
       "  <tbody>\n",
       "    <tr>\n",
       "      <th>0</th>\n",
       "      <td>1</td>\n",
       "      <td>14.23</td>\n",
       "      <td>1.71</td>\n",
       "      <td>2.43</td>\n",
       "      <td>15.6</td>\n",
       "      <td>127</td>\n",
       "      <td>2.80</td>\n",
       "      <td>3.06</td>\n",
       "      <td>0.28</td>\n",
       "      <td>2.29</td>\n",
       "      <td>5.64</td>\n",
       "      <td>1.04</td>\n",
       "      <td>3.92</td>\n",
       "      <td>1065</td>\n",
       "    </tr>\n",
       "    <tr>\n",
       "      <th>1</th>\n",
       "      <td>1</td>\n",
       "      <td>13.20</td>\n",
       "      <td>1.78</td>\n",
       "      <td>2.14</td>\n",
       "      <td>11.2</td>\n",
       "      <td>100</td>\n",
       "      <td>2.65</td>\n",
       "      <td>2.76</td>\n",
       "      <td>0.26</td>\n",
       "      <td>1.28</td>\n",
       "      <td>4.38</td>\n",
       "      <td>1.05</td>\n",
       "      <td>3.40</td>\n",
       "      <td>1050</td>\n",
       "    </tr>\n",
       "    <tr>\n",
       "      <th>2</th>\n",
       "      <td>1</td>\n",
       "      <td>13.16</td>\n",
       "      <td>2.36</td>\n",
       "      <td>2.67</td>\n",
       "      <td>18.6</td>\n",
       "      <td>101</td>\n",
       "      <td>2.80</td>\n",
       "      <td>3.24</td>\n",
       "      <td>0.30</td>\n",
       "      <td>2.81</td>\n",
       "      <td>5.68</td>\n",
       "      <td>1.03</td>\n",
       "      <td>3.17</td>\n",
       "      <td>1185</td>\n",
       "    </tr>\n",
       "    <tr>\n",
       "      <th>3</th>\n",
       "      <td>1</td>\n",
       "      <td>14.37</td>\n",
       "      <td>1.95</td>\n",
       "      <td>2.50</td>\n",
       "      <td>16.8</td>\n",
       "      <td>113</td>\n",
       "      <td>3.85</td>\n",
       "      <td>3.49</td>\n",
       "      <td>0.24</td>\n",
       "      <td>2.18</td>\n",
       "      <td>7.80</td>\n",
       "      <td>0.86</td>\n",
       "      <td>3.45</td>\n",
       "      <td>1480</td>\n",
       "    </tr>\n",
       "    <tr>\n",
       "      <th>4</th>\n",
       "      <td>1</td>\n",
       "      <td>13.24</td>\n",
       "      <td>2.59</td>\n",
       "      <td>2.87</td>\n",
       "      <td>21.0</td>\n",
       "      <td>118</td>\n",
       "      <td>2.80</td>\n",
       "      <td>2.69</td>\n",
       "      <td>0.39</td>\n",
       "      <td>1.82</td>\n",
       "      <td>4.32</td>\n",
       "      <td>1.04</td>\n",
       "      <td>2.93</td>\n",
       "      <td>735</td>\n",
       "    </tr>\n",
       "  </tbody>\n",
       "</table>\n",
       "</div>"
      ],
      "text/plain": [
       "   target  Alcohol  Malic acid   Ash  Alcalinity of ash  Magnesium  \\\n",
       "0       1    14.23        1.71  2.43               15.6        127   \n",
       "1       1    13.20        1.78  2.14               11.2        100   \n",
       "2       1    13.16        2.36  2.67               18.6        101   \n",
       "3       1    14.37        1.95  2.50               16.8        113   \n",
       "4       1    13.24        2.59  2.87               21.0        118   \n",
       "\n",
       "   Total phenols  Flavanoids  Nonflavanoid phenols  Proanthocyanins  \\\n",
       "0           2.80        3.06                  0.28             2.29   \n",
       "1           2.65        2.76                  0.26             1.28   \n",
       "2           2.80        3.24                  0.30             2.81   \n",
       "3           3.85        3.49                  0.24             2.18   \n",
       "4           2.80        2.69                  0.39             1.82   \n",
       "\n",
       "   Color intensity   Hue  OD280/OD315 of diluted wines  Proline  \n",
       "0             5.64  1.04                          3.92     1065  \n",
       "1             4.38  1.05                          3.40     1050  \n",
       "2             5.68  1.03                          3.17     1185  \n",
       "3             7.80  0.86                          3.45     1480  \n",
       "4             4.32  1.04                          2.93      735  "
      ]
     },
     "execution_count": 4,
     "metadata": {},
     "output_type": "execute_result"
    }
   ],
   "source": [
    "import pandas as pd\n",
    "\n",
    "columns = ['Alcohol',\n",
    "           'Malic acid',\n",
    "           'Ash',\n",
    "           'Alcalinity of ash',\n",
    "           'Magnesium',\n",
    "           'Total phenols',\n",
    "           'Flavanoids',\n",
    "           'Nonflavanoid phenols',\n",
    "           'Proanthocyanins',\n",
    "           'Color intensity',\n",
    "           'Hue',\n",
    "           'OD280/OD315 of diluted wines',\n",
    "           'Proline']\n",
    "\n",
    "wine_df = pd.read_csv('./data/interim/wine.data', names=columns).reset_index().rename({'index':'target'}, axis=1)\n",
    "wine_df.head()"
   ]
  },
  {
   "cell_type": "markdown",
   "metadata": {},
   "source": [
    "### Separação dos dados"
   ]
  },
  {
   "cell_type": "code",
   "execution_count": 5,
   "metadata": {},
   "outputs": [],
   "source": [
    "X = wine_df.drop('target', axis=1)\n",
    "y = wine_df['target']"
   ]
  },
  {
   "cell_type": "code",
   "execution_count": 6,
   "metadata": {},
   "outputs": [],
   "source": [
    "from sklearn.model_selection import train_test_split\n",
    "\n",
    "X_train, X_test, y_train, y_test = train_test_split(X, y,\n",
    "                                                    test_size=.3,\n",
    "                                                    random_state=7)"
   ]
  },
  {
   "cell_type": "markdown",
   "metadata": {},
   "source": [
    "### Criação do KFold para validação cruzada"
   ]
  },
  {
   "cell_type": "code",
   "execution_count": 8,
   "metadata": {},
   "outputs": [],
   "source": [
    "from sklearn.model_selection import KFold\n",
    "\n",
    "kf = KFold(n_splits=10,\n",
    "           shuffle=True,\n",
    "           random_state=7)"
   ]
  },
  {
   "cell_type": "markdown",
   "metadata": {},
   "source": [
    "### Definição de seed de forma global"
   ]
  },
  {
   "cell_type": "code",
   "execution_count": 9,
   "metadata": {},
   "outputs": [],
   "source": [
    "import numpy as np\n",
    "\n",
    "np.random.seed(7)"
   ]
  },
  {
   "cell_type": "markdown",
   "metadata": {},
   "source": [
    "### Criação de treinamento dos modelos"
   ]
  },
  {
   "cell_type": "code",
   "execution_count": 12,
   "metadata": {},
   "outputs": [],
   "source": [
    "from sklearn.tree import DecisionTreeClassifier\n",
    "from sklearn.naive_bayes import GaussianNB\n",
    "from sklearn.svm import SVC\n",
    "from sklearn.neighbors import KNeighborsClassifier\n",
    "\n",
    "models = {\n",
    "    'KNN': KNeighborsClassifier(),\n",
    "    'CART': DecisionTreeClassifier(),\n",
    "    'NB': GaussianNB(),\n",
    "    'SVM': SVC()\n",
    "}"
   ]
  },
  {
   "cell_type": "code",
   "execution_count": 18,
   "metadata": {},
   "outputs": [
    {
     "name": "stdout",
     "output_type": "stream",
     "text": [
      "KNN:\t68.65 % (12.25)\n",
      "CART:\t89.42 % (8.46)\n",
      "NB:\t96.73 % (5.47)\n",
      "SVM:\t68.46 % (9.19)\n"
     ]
    }
   ],
   "source": [
    "from sklearn.model_selection import cross_val_score\n",
    "\n",
    "results = []\n",
    "names = []\n",
    "\n",
    "for key, value in models.items():\n",
    "    cv_results = cross_val_score(value,\n",
    "                                 X_train, \n",
    "                                 y_train,\n",
    "                                 cv=kf,\n",
    "                                 scoring='accuracy')\n",
    "    \n",
    "    results.append(cv_results)\n",
    "\n",
    "    names.append(key)\n",
    "\n",
    "    print('%s:\\t%.2f %% (%.2f)' % (key, \n",
    "                               (cv_results.mean() * 100), \n",
    "                               (cv_results.std() * 100)))"
   ]
  },
  {
   "cell_type": "markdown",
   "metadata": {},
   "source": [
    "### Avaliação dos modelos treinados"
   ]
  },
  {
   "cell_type": "code",
   "execution_count": 23,
   "metadata": {},
   "outputs": [
    {
     "data": {
      "image/png": "[encoded data removed]",
      "text/plain": [
       "<Figure size 1000x800 with 1 Axes>"
      ]
     },
     "metadata": {},
     "output_type": "display_data"
    }
   ],
   "source": [
    "import matplotlib.pyplot as plt\n",
    "\n",
    "fig, ax = plt.subplots(figsize=(10, 8))\n",
    "plt.boxplot(results)\n",
    "\n",
    "ax.set_title('Comparação de acurácia dos modelos')\n",
    "ax.set_xlabel('Modelo')\n",
    "ax.set_ylabel('Acurácia')\n",
    "\n",
    "ax.set_xticklabels(names)\n",
    "\n",
    "plt.show()"
   ]
  },
  {
   "cell_type": "markdown",
   "metadata": {},
   "source": [
    "Constatação que Naïve Bayes melhor performou com os dados de treino. Assim sendo, será escolhido para fazer predições com os dados de teste"
   ]
  },
  {
   "cell_type": "code",
   "execution_count": 24,
   "metadata": {},
   "outputs": [
    {
     "name": "stdout",
     "output_type": "stream",
     "text": [
      "Naïve Bayes com dados de teste: 100.00 %\n"
     ]
    }
   ],
   "source": [
    "from sklearn.metrics import accuracy_score\n",
    "\n",
    "model_nb = GaussianNB()\n",
    "\n",
    "model_nb.fit(X_train, y_train)\n",
    "\n",
    "y_hat = model_nb.predict(X_test)\n",
    "\n",
    "print('Naïve Bayes com dados de teste: %.2f %%' % (accuracy_score(y_test, y_hat) * 100))"
   ]
  },
  {
   "cell_type": "markdown",
   "metadata": {},
   "source": [
    "Naïve Bayes conseguiu atingir uma métrica de 100% de acerto com suas predições.\n",
    "> Ressalta-se que, por ser talvez um _dataset_ mais simplificado, um resultado perfeito, e incomum, deste ocorreu."
   ]
  }
 ],
 "metadata": {
  "kernelspec": {
   "display_name": "Python 3 (ipykernel)",
   "language": "python",
   "name": "python3"
  },
  "language_info": {
   "codemirror_mode": {
    "name": "ipython",
    "version": 3
   },
   "file_extension": ".py",
   "mimetype": "text/x-python",
   "name": "python",
   "nbconvert_exporter": "python",
   "pygments_lexer": "ipython3",
   "version": "3.11.6"
  }
 },
 "nbformat": 4,
 "nbformat_minor": 2
}
